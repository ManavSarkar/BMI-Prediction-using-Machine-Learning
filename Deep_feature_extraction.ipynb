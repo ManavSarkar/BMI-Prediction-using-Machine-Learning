{
 "cells": [
  {
   "cell_type": "markdown",
   "metadata": {
    "colab_type": "text",
    "id": "view-in-github"
   },
   "source": [
    "<a href=\"https://colab.research.google.com/github/ManavSarkar/Weight-Prediction-using-Machine-Learning/blob/deep-feature-extraction/Deep_feature_extraction.ipynb\" target=\"_parent\"><img src=\"https://colab.research.google.com/assets/colab-badge.svg\" alt=\"Open In Colab\"/></a>"
   ]
  },
  {
   "cell_type": "code",
   "execution_count": 3,
   "metadata": {
    "id": "q5EE-DTkXAu_",
    "tags": []
   },
   "outputs": [],
   "source": [
    "dataset_path = 'datasets/updated_data.csv'\n",
    "import pandas as pd\n",
    "\n",
    "df = pd.read_csv(dataset_path)\n"
   ]
  },
  {
   "cell_type": "code",
   "execution_count": 4,
   "metadata": {
    "tags": []
   },
   "outputs": [],
   "source": [
    "# dividing the dataset into train, test and validation sets by adding an extra column\n",
    "from sklearn.model_selection import train_test_split\n",
    "\n",
    "# Specify the column to use for the split (e.g., 'img_name')\n",
    "train, test = train_test_split(df, test_size=0.2, random_state=42)\n",
    "train, validation = train_test_split(train, test_size=0.2, random_state=42)\n",
    "#  80% of the data is used for training, 10% for testing, and 10% for validation. "
   ]
  },
  {
   "cell_type": "code",
   "execution_count": 5,
   "metadata": {
    "tags": []
   },
   "outputs": [],
   "source": [
    "df['split'] = 'train'  # Set default value to 'train'\n",
    "df.loc[df.index.isin(test.index), 'split'] = 'test'\n",
    "df.loc[df.index.isin(validation.index), 'split'] = 'validation'\n",
    "df.to_csv('datasets/updated_data.csv', index=False)\n",
    "\n",
    "df['bmi'] = df['weight']/df['height']**2\n"
   ]
  },
  {
   "cell_type": "code",
   "execution_count": 6,
   "metadata": {
    "colab": {
     "base_uri": "https://localhost:8080/",
     "height": 206
    },
    "id": "xAM8g8YtZ7QS",
    "outputId": "96d070a9-8ffd-49f7-fe8c-f2ae87b2a8a0",
    "tags": []
   },
   "outputs": [
    {
     "data": {
      "text/html": [
       "<div>\n",
       "<style scoped>\n",
       "    .dataframe tbody tr th:only-of-type {\n",
       "        vertical-align: middle;\n",
       "    }\n",
       "\n",
       "    .dataframe tbody tr th {\n",
       "        vertical-align: top;\n",
       "    }\n",
       "\n",
       "    .dataframe thead th {\n",
       "        text-align: right;\n",
       "    }\n",
       "</style>\n",
       "<table border=\"1\" class=\"dataframe\">\n",
       "  <thead>\n",
       "    <tr style=\"text-align: right;\">\n",
       "      <th></th>\n",
       "      <th>img_name</th>\n",
       "      <th>sex</th>\n",
       "      <th>age</th>\n",
       "      <th>height</th>\n",
       "      <th>weight</th>\n",
       "      <th>split</th>\n",
       "      <th>bmi</th>\n",
       "    </tr>\n",
       "  </thead>\n",
       "  <tbody>\n",
       "    <tr>\n",
       "      <th>0</th>\n",
       "      <td>000002_F_18_165100_8482178.jpg</td>\n",
       "      <td>0</td>\n",
       "      <td>18</td>\n",
       "      <td>1.6510</td>\n",
       "      <td>84.82178</td>\n",
       "      <td>test</td>\n",
       "      <td>31.118112</td>\n",
       "    </tr>\n",
       "    <tr>\n",
       "      <th>1</th>\n",
       "      <td>000003_F_18_170180_3991613.jpg</td>\n",
       "      <td>0</td>\n",
       "      <td>18</td>\n",
       "      <td>1.7018</td>\n",
       "      <td>39.91613</td>\n",
       "      <td>train</td>\n",
       "      <td>13.782608</td>\n",
       "    </tr>\n",
       "    <tr>\n",
       "      <th>2</th>\n",
       "      <td>000003_F_18_170180_7257478.jpg</td>\n",
       "      <td>0</td>\n",
       "      <td>18</td>\n",
       "      <td>1.7018</td>\n",
       "      <td>72.57478</td>\n",
       "      <td>validation</td>\n",
       "      <td>25.059286</td>\n",
       "    </tr>\n",
       "    <tr>\n",
       "      <th>3</th>\n",
       "      <td>000004_F_22_157480_5606402.jpg</td>\n",
       "      <td>0</td>\n",
       "      <td>22</td>\n",
       "      <td>1.5748</td>\n",
       "      <td>56.06402</td>\n",
       "      <td>train</td>\n",
       "      <td>22.606505</td>\n",
       "    </tr>\n",
       "    <tr>\n",
       "      <th>4</th>\n",
       "      <td>000004_F_22_157480_6245967.jpg</td>\n",
       "      <td>0</td>\n",
       "      <td>22</td>\n",
       "      <td>1.5748</td>\n",
       "      <td>62.45967</td>\n",
       "      <td>train</td>\n",
       "      <td>25.185401</td>\n",
       "    </tr>\n",
       "  </tbody>\n",
       "</table>\n",
       "</div>"
      ],
      "text/plain": [
       "                         img_name  sex  age  height    weight       split  \\\n",
       "0  000002_F_18_165100_8482178.jpg    0   18  1.6510  84.82178        test   \n",
       "1  000003_F_18_170180_3991613.jpg    0   18  1.7018  39.91613       train   \n",
       "2  000003_F_18_170180_7257478.jpg    0   18  1.7018  72.57478  validation   \n",
       "3  000004_F_22_157480_5606402.jpg    0   22  1.5748  56.06402       train   \n",
       "4  000004_F_22_157480_6245967.jpg    0   22  1.5748  62.45967       train   \n",
       "\n",
       "         bmi  \n",
       "0  31.118112  \n",
       "1  13.782608  \n",
       "2  25.059286  \n",
       "3  22.606505  \n",
       "4  25.185401  "
      ]
     },
     "execution_count": 6,
     "metadata": {},
     "output_type": "execute_result"
    }
   ],
   "source": [
    "df.head()"
   ]
  },
  {
   "cell_type": "code",
   "execution_count": 7,
   "metadata": {
    "colab": {
     "base_uri": "https://localhost:8080/"
    },
    "id": "3VkZIp29Z8OV",
    "outputId": "963e682a-6ee1-4701-9e0e-a0bc08bb5f4b",
    "tags": []
   },
   "outputs": [
    {
     "name": "stderr",
     "output_type": "stream",
     "text": [
      "Using cache found in /home/studio-lab-user/.cache/torch/hub/pytorch_vision_v0.10.0\n"
     ]
    }
   ],
   "source": [
    "# first getting ResNet 101 model from torch\n",
    "import torch\n",
    "resnet_model = torch.hub.load('pytorch/vision:v0.10.0', 'resnet101', pretrained=True)"
   ]
  },
  {
   "cell_type": "code",
   "execution_count": null,
   "metadata": {},
   "outputs": [],
   "source": []
  },
  {
   "cell_type": "code",
   "execution_count": 8,
   "metadata": {
    "id": "coVr9LkKacg1",
    "tags": []
   },
   "outputs": [],
   "source": [
    "# replacing last layer with 15 features instead of 1000\n",
    "import torch\n",
    "import torch.nn as nn\n",
    "resnet_model.fc = nn.Sequential(\n",
    "    nn.Linear(2048, 1024),\n",
    "    nn.ReLU(True),\n",
    "    nn.Linear(1024, 512),\n",
    "    nn.ReLU(True),\n",
    "    nn.Linear(512, 256),\n",
    "    nn.ReLU(True),\n",
    "    nn.Linear(256, 20),\n",
    "    nn.ReLU(True),\n",
    "    nn.Linear(20, 1)\n",
    ")"
   ]
  },
  {
   "cell_type": "code",
   "execution_count": 9,
   "metadata": {
    "id": "wke2_NbYfYqP",
    "tags": []
   },
   "outputs": [],
   "source": [
    "# using the adam optimizer with learning rate of 0.0001 first and second momentum of 0.9 and 0.999 respectively\n",
    "import torch.optim as optim\n",
    "optimizer = optim.Adam(resnet_model.parameters(), lr=0.0001, betas=(0.9, 0.999), weight_decay=0.001)"
   ]
  },
  {
   "cell_type": "code",
   "execution_count": null,
   "metadata": {
    "colab": {
     "base_uri": "https://localhost:8080/"
    },
    "id": "2sxqcO3gifC9",
    "outputId": "e63af83d-9013-446b-cacc-3d8d99dcc387",
    "tags": []
   },
   "outputs": [],
   "source": []
  },
  {
   "cell_type": "code",
   "execution_count": 10,
   "metadata": {
    "id": "aIeyT-q9iodS",
    "tags": []
   },
   "outputs": [],
   "source": [
    "# scaling the longer side of image to 224 and pad the shorter size with zeroes to match 224x224\n",
    "from PIL import Image, ImageOps\n",
    "\n",
    "def scale_and_pad(img):\n",
    "    width, height = img.size\n",
    "    if width > height:\n",
    "        scale = 224 / width\n",
    "        new_height = int(height * scale)\n",
    "        img = img.resize((224, new_height))\n",
    "        padding = (224 - new_height) // 2\n",
    "        img = ImageOps.expand(img, (0, padding, 0, 224 - new_height - padding))\n",
    "    else:\n",
    "        scale = 224 / height\n",
    "        new_width = int(width * scale)\n",
    "        img = img.resize((new_width, 224))\n",
    "        padding = (224 - new_width) // 2\n",
    "        img = ImageOps.expand(img, (padding, 0, 224 - new_width - padding, 0))\n",
    "    return img\n",
    "\n",
    "\n"
   ]
  },
  {
   "cell_type": "code",
   "execution_count": 11,
   "metadata": {
    "tags": []
   },
   "outputs": [],
   "source": [
    "# transform an image from datasets/images/ to a tensor\n",
    "from PIL import Image\n",
    "img_path = 'datasets/Images/002274_M_35_175260_12337713.jpg'\n",
    "img = Image.open(img_path)\n",
    "img = scale_and_pad(img)\n"
   ]
  },
  {
   "cell_type": "code",
   "execution_count": 12,
   "metadata": {
    "tags": []
   },
   "outputs": [],
   "source": [
    "# normalized with mean values[0.485, 0.456, 0.406] \n",
    "# and standard deviation values[0.229, 0.224, 0.225]\n",
    "from torchvision import transforms\n",
    "IMG_SIZE = 224\n",
    "IMG_MEAN = [0.485, 0.456, 0.406]\n",
    "IMG_STD = [0.229, 0.224, 0.225]\n",
    "transform = transforms.Compose([\n",
    "    transforms.CenterCrop(IMG_SIZE),\n",
    "    transforms.ToTensor(),\n",
    "    transforms.Normalize(IMG_MEAN, IMG_STD)\n",
    "])\n",
    "\n",
    "img = transform(img)\n",
    "\n",
    "\n"
   ]
  },
  {
   "cell_type": "code",
   "execution_count": 13,
   "metadata": {
    "tags": []
   },
   "outputs": [
    {
     "name": "stderr",
     "output_type": "stream",
     "text": [
      "Clipping input data to the valid range for imshow with RGB data ([0..1] for floats or [0..255] for integers).\n"
     ]
    },
    {
     "data": {
      "text/plain": [
       "<matplotlib.image.AxesImage at 0x7efb44821040>"
      ]
     },
     "execution_count": 13,
     "metadata": {},
     "output_type": "execute_result"
    },
    {
     "data": {
      "image/png": "[encoded data removed]",
      "text/plain": [
       "<Figure size 640x480 with 1 Axes>"
      ]
     },
     "metadata": {},
     "output_type": "display_data"
    }
   ],
   "source": [
    "# plot the image\n",
    "import matplotlib.pyplot as plt\n",
    "\n",
    "plt.imshow(img.permute(1, 2, 0))\n"
   ]
  },
  {
   "cell_type": "code",
   "execution_count": 14,
   "metadata": {
    "tags": []
   },
   "outputs": [],
   "source": [
    "from torch.utils.data import Dataset, DataLoader\n",
    "from PIL import Image\n",
    "import re\n",
    "class CustomDataset(Dataset):\n",
    "    def __init__(self, dataset, transform=None):\n",
    "        self.data = dataset\n",
    "        self.transform = transform\n",
    "\n",
    "    def __len__(self):\n",
    "        return len(self.data.index)\n",
    "\n",
    "    def __getitem__(self, idx):\n",
    "        img_name = self.data.iloc[idx, 0] \n",
    "        img_path = 'datasets/Images/' + img_name  # adjust the path to your actual image directory\n",
    "        image = Image.open(img_path)\n",
    "        image = scale_and_pad(image)\n",
    "        ret = re.match(r\"\\d+?_([FMfm])_(\\d+?)_(\\d+?)_(\\d+).+\", img_name)\n",
    "        BMI = (int(ret.group(4)) / 100000) / (int(ret.group(3)) / 100000) ** 2\n",
    "        \n",
    "        if self.transform:\n",
    "            image = self.transform(image)\n",
    "\n",
    "        return (image,img_name), BMI"
   ]
  },
  {
   "cell_type": "code",
   "execution_count": 15,
   "metadata": {
    "tags": []
   },
   "outputs": [],
   "source": [
    "train_data = df[df['split'] == 'train']\n",
    "test_data = df[df['split'] == 'test']\n",
    "val_data = df[df['split'] == 'validation']\n",
    "\n",
    "batch_size = 64\n",
    "train_dataset = CustomDataset(train_data, transform=transform)\n",
    "test_dataset = CustomDataset(test_data, transform=transform)\n",
    "val_dataset = CustomDataset(val_data, transform=transform)\n",
    "\n",
    "train_loader = DataLoader(train_dataset, batch_size=batch_size, shuffle=True)\n",
    "test_loader = DataLoader(test_dataset, batch_size=1, shuffle=True)\n",
    "val_loader = DataLoader(val_dataset, batch_size=1, shuffle=True)"
   ]
  },
  {
   "cell_type": "code",
   "execution_count": 16,
   "metadata": {
    "tags": []
   },
   "outputs": [
    {
     "name": "stdout",
     "output_type": "stream",
     "text": [
      "622\n"
     ]
    }
   ],
   "source": [
    "print(len(val_loader))"
   ]
  },
  {
   "cell_type": "code",
   "execution_count": null,
   "metadata": {
    "tags": []
   },
   "outputs": [],
   "source": []
  },
  {
   "cell_type": "code",
   "execution_count": 17,
   "metadata": {
    "tags": []
   },
   "outputs": [
    {
     "name": "stdout",
     "output_type": "stream",
     "text": [
      "cuda:0\n"
     ]
    }
   ],
   "source": [
    "# train the resnet model on the train_img_tensors and train_labels\n",
    "import torch\n",
    "import torch.nn as nn\n",
    "import torch.optim as optim\n",
    "import numpy as np\n",
    "\n",
    "from sklearn.metrics import mean_absolute_error\n",
    "device = torch.device('cuda:0' if torch.cuda.is_available() else 'cpu')\n",
    "print(device)\n"
   ]
  },
  {
   "cell_type": "code",
   "execution_count": 18,
   "metadata": {
    "tags": []
   },
   "outputs": [],
   "source": [
    "\n",
    "resnet_model = resnet_model.to(device)\n",
    "criterion = nn.MSELoss()\n",
    "\n"
   ]
  },
  {
   "cell_type": "code",
   "execution_count": 19,
   "metadata": {},
   "outputs": [],
   "source": [
    "def train(model, device, train_loader, epoch):\n",
    "    model.train()\n",
    "    running_loss = 0.0\n",
    "    for idx, ((x,n),y) in enumerate(train_loader,0):\n",
    "        x, y = x.to(device), y.to(device)\n",
    "        optimizer.zero_grad()\n",
    "        y_pred = model(x)\n",
    "        # print(y_pred.shape)\n",
    "        y = torch.unsqueeze(y,1)\n",
    "        loss = criterion(y_pred.double(), y.double())\n",
    "        loss.backward()\n",
    "        optimizer.step()\n",
    "        \n",
    "        running_loss += loss.item()\n",
    "    print('loss: ', loss.item())\n",
    "    print('Train Epoch:{}\\t RealLoss:{:.6f}'.format(epoch, running_loss / len(train_loader)))"
   ]
  },
  {
   "cell_type": "code",
   "execution_count": 20,
   "metadata": {},
   "outputs": [],
   "source": [
    "def mean_absolute_percentage_error(y_true, y_pred):\n",
    "    y_true, y_pred = np.array(y_true), np.array(y_pred)\n",
    "    return np.mean(np.abs((y_true - y_pred) / y_true)) * 100"
   ]
  },
  {
   "cell_type": "code",
   "execution_count": 21,
   "metadata": {
    "tags": []
   },
   "outputs": [],
   "source": [
    "def test(model, device, test_loader):\n",
    "    model.eval()\n",
    "    pred = []\n",
    "    targ = []\n",
    "    with torch.no_grad():\n",
    "        for i, ((x, n), y) in enumerate(test_loader):\n",
    "            x, y = x.to(device), y.to(device)\n",
    "            # optimizer.zero_grad()\n",
    "            y_pred = model(x)\n",
    "            # print(y_pred.shape)\n",
    "            pred.append(y_pred.item())\n",
    "            targ.append(y.item())\n",
    "            y = torch.unsqueeze(y, 1)\n",
    "    MAE = mean_absolute_error(targ, pred)\n",
    "    MAPE = mean_absolute_percentage_error(targ, pred)\n",
    "    print('\\nTest MAE:{}\\t Test MAPE:{} '.format(MAE, MAPE))\n",
    "    return MAE, MAPE"
   ]
  },
  {
   "cell_type": "code",
   "execution_count": 20,
   "metadata": {
    "tags": []
   },
   "outputs": [
    {
     "name": "stdout",
     "output_type": "stream",
     "text": [
      "\n",
      "Test MAE:30.32943829239959\t Test MAPE:100.333489801653 \n"
     ]
    }
   ],
   "source": [
    "MIN_MAE, MAPE = test(resnet_model, device, val_loader)"
   ]
  },
  {
   "cell_type": "code",
   "execution_count": 21,
   "metadata": {
    "tags": []
   },
   "outputs": [
    {
     "data": {
      "text/plain": [
       "30.32943829239959"
      ]
     },
     "execution_count": 21,
     "metadata": {},
     "output_type": "execute_result"
    }
   ],
   "source": [
    "MIN_MAE"
   ]
  },
  {
   "cell_type": "code",
   "execution_count": null,
   "metadata": {},
   "outputs": [],
   "source": [
    "for epoch in range(100):\n",
    "    print('*' * 50)\n",
    "    train(resnet_model, device, train_loader, epoch)\n",
    "    val_MAE, val_MAPE = test(resnet_model, device, val_loader)\n",
    "    if val_MAE < MIN_MAE:\n",
    "        MIN_MAE = val_MAE\n",
    "        torch.save(resnet_model.state_dict(), 'MIN_RESNET101_BMI_Cache_test.pkl')\n",
    "        END_EPOCH = epoch\n"
   ]
  },
  {
   "cell_type": "code",
   "execution_count": 22,
   "metadata": {},
   "outputs": [],
   "source": [
    "Net = resnet_model\n",
    "Net.load_state_dict(torch.load('MIN_RESNET101_BMI_Cache.pkl', map_location=torch.device('cpu')))\n",
    "Net = Net.to(device)"
   ]
  },
  {
   "cell_type": "code",
   "execution_count": 23,
   "metadata": {
    "tags": []
   },
   "outputs": [
    {
     "name": "stdout",
     "output_type": "stream",
     "text": [
      "==================================================\n",
      "\n",
      "Test MAE:6.83262550017427\t Test MAPE:23.848494128167054 \n"
     ]
    },
    {
     "data": {
      "text/plain": [
       "(6.83262550017427, 23.848494128167054)"
      ]
     },
     "execution_count": 23,
     "metadata": {},
     "output_type": "execute_result"
    }
   ],
   "source": [
    "print('=' * 50)\n",
    "Net.eval()\n",
    "test(Net, device, test_loader)"
   ]
  },
  {
   "cell_type": "code",
   "execution_count": null,
   "metadata": {},
   "outputs": [],
   "source": [
    "\n"
   ]
  }
 ],
 "metadata": {
  "colab": {
   "authorship_tag": "ABX9TyNUHP26OLKjdx0So6iU09Az",
   "include_colab_link": true,
   "provenance": []
  },
  "kernelspec": {
   "display_name": "sagemaker-distribution:Python",
   "language": "python",
   "name": "conda-env-sagemaker-distribution-py"
  },
  "language_info": {
   "codemirror_mode": {
    "name": "ipython",
    "version": 3
   },
   "file_extension": ".py",
   "mimetype": "text/x-python",
   "name": "python",
   "nbconvert_exporter": "python",
   "pygments_lexer": "ipython3",
   "version": "3.8.17"
  }
 },
 "nbformat": 4,
 "nbformat_minor": 4
}
