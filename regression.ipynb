{
 "cells": [
  {
   "cell_type": "code",
   "execution_count": 57,
   "id": "76d07648-dfd0-4237-971b-7bbd0c4336be",
   "metadata": {
    "tags": []
   },
   "outputs": [],
   "source": [
    "from sklearn.metrics import mean_absolute_error\n",
    "from sklearn.gaussian_process.kernels import Exponentiation,RationalQuadratic\n",
    "import pandas as pd\n",
    "import sklearn.gaussian_process \n",
    "import numpy as np\n",
    "from sklearn.svm import SVR\n",
    "from sklearn.metrics import r2_score, mean_squared_error"
   ]
  },
  {
   "cell_type": "code",
   "execution_count": 54,
   "id": "316e1afe-bee1-411c-8b0d-87e560382b70",
   "metadata": {
    "tags": []
   },
   "outputs": [],
   "source": [
    "\n",
    "def RMSE(MSE):\n",
    "    return np.sqrt(MSE)"
   ]
  },
  {
   "cell_type": "code",
   "execution_count": 26,
   "id": "218c6377-543d-4149-848d-0f4dbbf578c5",
   "metadata": {
    "tags": []
   },
   "outputs": [],
   "source": [
    "# train_data\n",
    "\n",
    "train_df = pd.read_csv('Image_train.csv',header=None)\n"
   ]
  },
  {
   "cell_type": "code",
   "execution_count": 27,
   "id": "08a5bea3-e4a3-4736-acd7-78158773b592",
   "metadata": {
    "tags": []
   },
   "outputs": [
    {
     "data": {
      "text/html": [
       "<div>\n",
       "<style scoped>\n",
       "    .dataframe tbody tr th:only-of-type {\n",
       "        vertical-align: middle;\n",
       "    }\n",
       "\n",
       "    .dataframe tbody tr th {\n",
       "        vertical-align: top;\n",
       "    }\n",
       "\n",
       "    .dataframe thead th {\n",
       "        text-align: right;\n",
       "    }\n",
       "</style>\n",
       "<table border=\"1\" class=\"dataframe\">\n",
       "  <thead>\n",
       "    <tr style=\"text-align: right;\">\n",
       "      <th></th>\n",
       "      <th>0</th>\n",
       "      <th>1</th>\n",
       "      <th>2</th>\n",
       "      <th>3</th>\n",
       "      <th>4</th>\n",
       "      <th>5</th>\n",
       "      <th>6</th>\n",
       "      <th>7</th>\n",
       "      <th>8</th>\n",
       "      <th>9</th>\n",
       "      <th>...</th>\n",
       "      <th>18</th>\n",
       "      <th>19</th>\n",
       "      <th>20</th>\n",
       "      <th>21</th>\n",
       "      <th>22</th>\n",
       "      <th>23</th>\n",
       "      <th>24</th>\n",
       "      <th>25</th>\n",
       "      <th>26</th>\n",
       "      <th>27</th>\n",
       "    </tr>\n",
       "  </thead>\n",
       "  <tbody>\n",
       "    <tr>\n",
       "      <th>0</th>\n",
       "      <td>2_F_20_172720_8572896.jpg</td>\n",
       "      <td>28.737057</td>\n",
       "      <td>0</td>\n",
       "      <td>0.022050</td>\n",
       "      <td>1.000000</td>\n",
       "      <td>1.000000</td>\n",
       "      <td>0.093809</td>\n",
       "      <td>0.093809</td>\n",
       "      <td>230.434275</td>\n",
       "      <td>693.529541</td>\n",
       "      <td>...</td>\n",
       "      <td>25.593006</td>\n",
       "      <td>0.0</td>\n",
       "      <td>0.0</td>\n",
       "      <td>26.567938</td>\n",
       "      <td>26.040943</td>\n",
       "      <td>0.0</td>\n",
       "      <td>9.629834</td>\n",
       "      <td>20</td>\n",
       "      <td>1.7272</td>\n",
       "      <td>85.72896</td>\n",
       "    </tr>\n",
       "    <tr>\n",
       "      <th>1</th>\n",
       "      <td>001529_M_20_180340_10523344.jpg</td>\n",
       "      <td>32.357103</td>\n",
       "      <td>1</td>\n",
       "      <td>1.473643</td>\n",
       "      <td>2.989011</td>\n",
       "      <td>1.265116</td>\n",
       "      <td>3.107680</td>\n",
       "      <td>2.456438</td>\n",
       "      <td>0.923548</td>\n",
       "      <td>2.132929</td>\n",
       "      <td>...</td>\n",
       "      <td>22.542686</td>\n",
       "      <td>0.0</td>\n",
       "      <td>0.0</td>\n",
       "      <td>23.418932</td>\n",
       "      <td>23.019554</td>\n",
       "      <td>0.0</td>\n",
       "      <td>8.590477</td>\n",
       "      <td>20</td>\n",
       "      <td>1.8034</td>\n",
       "      <td>105.23344</td>\n",
       "    </tr>\n",
       "    <tr>\n",
       "      <th>2</th>\n",
       "      <td>0_F_21_167640_9979033.jpg</td>\n",
       "      <td>35.508568</td>\n",
       "      <td>0</td>\n",
       "      <td>1.640238</td>\n",
       "      <td>2.601010</td>\n",
       "      <td>1.240964</td>\n",
       "      <td>3.518053</td>\n",
       "      <td>2.834936</td>\n",
       "      <td>0.997146</td>\n",
       "      <td>1.763106</td>\n",
       "      <td>...</td>\n",
       "      <td>30.855593</td>\n",
       "      <td>0.0</td>\n",
       "      <td>0.0</td>\n",
       "      <td>31.899736</td>\n",
       "      <td>30.952457</td>\n",
       "      <td>0.0</td>\n",
       "      <td>11.148106</td>\n",
       "      <td>21</td>\n",
       "      <td>1.6764</td>\n",
       "      <td>99.79033</td>\n",
       "    </tr>\n",
       "    <tr>\n",
       "      <th>3</th>\n",
       "      <td>001536_F_23_152400_7665712.jpg</td>\n",
       "      <td>33.005215</td>\n",
       "      <td>0</td>\n",
       "      <td>1.220881</td>\n",
       "      <td>3.339286</td>\n",
       "      <td>0.956522</td>\n",
       "      <td>2.247371</td>\n",
       "      <td>2.349524</td>\n",
       "      <td>1.096531</td>\n",
       "      <td>2.863812</td>\n",
       "      <td>...</td>\n",
       "      <td>27.580500</td>\n",
       "      <td>0.0</td>\n",
       "      <td>0.0</td>\n",
       "      <td>28.576347</td>\n",
       "      <td>27.754471</td>\n",
       "      <td>0.0</td>\n",
       "      <td>10.059669</td>\n",
       "      <td>23</td>\n",
       "      <td>1.5240</td>\n",
       "      <td>76.65712</td>\n",
       "    </tr>\n",
       "    <tr>\n",
       "      <th>4</th>\n",
       "      <td>001046_F_22_165100_10659421.jpg</td>\n",
       "      <td>39.105646</td>\n",
       "      <td>0</td>\n",
       "      <td>1.244603</td>\n",
       "      <td>2.415385</td>\n",
       "      <td>1.085253</td>\n",
       "      <td>2.543429</td>\n",
       "      <td>2.343626</td>\n",
       "      <td>0.936581</td>\n",
       "      <td>2.559449</td>\n",
       "      <td>...</td>\n",
       "      <td>31.637636</td>\n",
       "      <td>0.0</td>\n",
       "      <td>0.0</td>\n",
       "      <td>32.720364</td>\n",
       "      <td>31.575808</td>\n",
       "      <td>0.0</td>\n",
       "      <td>11.267887</td>\n",
       "      <td>22</td>\n",
       "      <td>1.6510</td>\n",
       "      <td>106.59421</td>\n",
       "    </tr>\n",
       "  </tbody>\n",
       "</table>\n",
       "<p>5 rows × 28 columns</p>\n",
       "</div>"
      ],
      "text/plain": [
       "                                0          1   2         3         4   \\\n",
       "0        2_F_20_172720_8572896.jpg  28.737057   0  0.022050  1.000000   \n",
       "1  001529_M_20_180340_10523344.jpg  32.357103   1  1.473643  2.989011   \n",
       "2        0_F_21_167640_9979033.jpg  35.508568   0  1.640238  2.601010   \n",
       "3   001536_F_23_152400_7665712.jpg  33.005215   0  1.220881  3.339286   \n",
       "4  001046_F_22_165100_10659421.jpg  39.105646   0  1.244603  2.415385   \n",
       "\n",
       "         5         6         7           8           9   ...         18   19  \\\n",
       "0  1.000000  0.093809  0.093809  230.434275  693.529541  ...  25.593006  0.0   \n",
       "1  1.265116  3.107680  2.456438    0.923548    2.132929  ...  22.542686  0.0   \n",
       "2  1.240964  3.518053  2.834936    0.997146    1.763106  ...  30.855593  0.0   \n",
       "3  0.956522  2.247371  2.349524    1.096531    2.863812  ...  27.580500  0.0   \n",
       "4  1.085253  2.543429  2.343626    0.936581    2.559449  ...  31.637636  0.0   \n",
       "\n",
       "    20         21         22   23         24  25      26         27  \n",
       "0  0.0  26.567938  26.040943  0.0   9.629834  20  1.7272   85.72896  \n",
       "1  0.0  23.418932  23.019554  0.0   8.590477  20  1.8034  105.23344  \n",
       "2  0.0  31.899736  30.952457  0.0  11.148106  21  1.6764   99.79033  \n",
       "3  0.0  28.576347  27.754471  0.0  10.059669  23  1.5240   76.65712  \n",
       "4  0.0  32.720364  31.575808  0.0  11.267887  22  1.6510  106.59421  \n",
       "\n",
       "[5 rows x 28 columns]"
      ]
     },
     "execution_count": 27,
     "metadata": {},
     "output_type": "execute_result"
    }
   ],
   "source": [
    "train_df.head()"
   ]
  },
  {
   "cell_type": "code",
   "execution_count": 28,
   "id": "c7ae0e41-c013-4e3d-93bc-b87ba25f1dbc",
   "metadata": {
    "tags": []
   },
   "outputs": [],
   "source": [
    "X_train, y_train = train_df.iloc[:,2:], train_df.iloc[:,1]"
   ]
  },
  {
   "cell_type": "code",
   "execution_count": 29,
   "id": "b987cd19-ae6c-46bf-98a7-ffaab83ac9bd",
   "metadata": {
    "tags": []
   },
   "outputs": [
    {
     "name": "stdout",
     "output_type": "stream",
     "text": [
      "X:\n"
     ]
    },
    {
     "data": {
      "text/html": [
       "<div>\n",
       "<style scoped>\n",
       "    .dataframe tbody tr th:only-of-type {\n",
       "        vertical-align: middle;\n",
       "    }\n",
       "\n",
       "    .dataframe tbody tr th {\n",
       "        vertical-align: top;\n",
       "    }\n",
       "\n",
       "    .dataframe thead th {\n",
       "        text-align: right;\n",
       "    }\n",
       "</style>\n",
       "<table border=\"1\" class=\"dataframe\">\n",
       "  <thead>\n",
       "    <tr style=\"text-align: right;\">\n",
       "      <th></th>\n",
       "      <th>2</th>\n",
       "      <th>3</th>\n",
       "      <th>4</th>\n",
       "      <th>5</th>\n",
       "      <th>6</th>\n",
       "      <th>7</th>\n",
       "      <th>8</th>\n",
       "      <th>9</th>\n",
       "      <th>10</th>\n",
       "      <th>11</th>\n",
       "      <th>...</th>\n",
       "      <th>18</th>\n",
       "      <th>19</th>\n",
       "      <th>20</th>\n",
       "      <th>21</th>\n",
       "      <th>22</th>\n",
       "      <th>23</th>\n",
       "      <th>24</th>\n",
       "      <th>25</th>\n",
       "      <th>26</th>\n",
       "      <th>27</th>\n",
       "    </tr>\n",
       "  </thead>\n",
       "  <tbody>\n",
       "    <tr>\n",
       "      <th>0</th>\n",
       "      <td>0</td>\n",
       "      <td>0.022050</td>\n",
       "      <td>1.000000</td>\n",
       "      <td>1.000000</td>\n",
       "      <td>0.093809</td>\n",
       "      <td>0.093809</td>\n",
       "      <td>230.434275</td>\n",
       "      <td>693.529541</td>\n",
       "      <td>0.0</td>\n",
       "      <td>25.942919</td>\n",
       "      <td>...</td>\n",
       "      <td>25.593006</td>\n",
       "      <td>0.0</td>\n",
       "      <td>0.0</td>\n",
       "      <td>26.567938</td>\n",
       "      <td>26.040943</td>\n",
       "      <td>0.0</td>\n",
       "      <td>9.629834</td>\n",
       "      <td>20</td>\n",
       "      <td>1.7272</td>\n",
       "      <td>85.72896</td>\n",
       "    </tr>\n",
       "    <tr>\n",
       "      <th>1</th>\n",
       "      <td>1</td>\n",
       "      <td>1.473643</td>\n",
       "      <td>2.989011</td>\n",
       "      <td>1.265116</td>\n",
       "      <td>3.107680</td>\n",
       "      <td>2.456438</td>\n",
       "      <td>0.923548</td>\n",
       "      <td>2.132929</td>\n",
       "      <td>0.0</td>\n",
       "      <td>22.958532</td>\n",
       "      <td>...</td>\n",
       "      <td>22.542686</td>\n",
       "      <td>0.0</td>\n",
       "      <td>0.0</td>\n",
       "      <td>23.418932</td>\n",
       "      <td>23.019554</td>\n",
       "      <td>0.0</td>\n",
       "      <td>8.590477</td>\n",
       "      <td>20</td>\n",
       "      <td>1.8034</td>\n",
       "      <td>105.23344</td>\n",
       "    </tr>\n",
       "    <tr>\n",
       "      <th>2</th>\n",
       "      <td>0</td>\n",
       "      <td>1.640238</td>\n",
       "      <td>2.601010</td>\n",
       "      <td>1.240964</td>\n",
       "      <td>3.518053</td>\n",
       "      <td>2.834936</td>\n",
       "      <td>0.997146</td>\n",
       "      <td>1.763106</td>\n",
       "      <td>0.0</td>\n",
       "      <td>30.680021</td>\n",
       "      <td>...</td>\n",
       "      <td>30.855593</td>\n",
       "      <td>0.0</td>\n",
       "      <td>0.0</td>\n",
       "      <td>31.899736</td>\n",
       "      <td>30.952457</td>\n",
       "      <td>0.0</td>\n",
       "      <td>11.148106</td>\n",
       "      <td>21</td>\n",
       "      <td>1.6764</td>\n",
       "      <td>99.79033</td>\n",
       "    </tr>\n",
       "    <tr>\n",
       "      <th>3</th>\n",
       "      <td>0</td>\n",
       "      <td>1.220881</td>\n",
       "      <td>3.339286</td>\n",
       "      <td>0.956522</td>\n",
       "      <td>2.247371</td>\n",
       "      <td>2.349524</td>\n",
       "      <td>1.096531</td>\n",
       "      <td>2.863812</td>\n",
       "      <td>0.0</td>\n",
       "      <td>27.559206</td>\n",
       "      <td>...</td>\n",
       "      <td>27.580500</td>\n",
       "      <td>0.0</td>\n",
       "      <td>0.0</td>\n",
       "      <td>28.576347</td>\n",
       "      <td>27.754471</td>\n",
       "      <td>0.0</td>\n",
       "      <td>10.059669</td>\n",
       "      <td>23</td>\n",
       "      <td>1.5240</td>\n",
       "      <td>76.65712</td>\n",
       "    </tr>\n",
       "    <tr>\n",
       "      <th>4</th>\n",
       "      <td>0</td>\n",
       "      <td>1.244603</td>\n",
       "      <td>2.415385</td>\n",
       "      <td>1.085253</td>\n",
       "      <td>2.543429</td>\n",
       "      <td>2.343626</td>\n",
       "      <td>0.936581</td>\n",
       "      <td>2.559449</td>\n",
       "      <td>0.0</td>\n",
       "      <td>31.328630</td>\n",
       "      <td>...</td>\n",
       "      <td>31.637636</td>\n",
       "      <td>0.0</td>\n",
       "      <td>0.0</td>\n",
       "      <td>32.720364</td>\n",
       "      <td>31.575808</td>\n",
       "      <td>0.0</td>\n",
       "      <td>11.267887</td>\n",
       "      <td>22</td>\n",
       "      <td>1.6510</td>\n",
       "      <td>106.59421</td>\n",
       "    </tr>\n",
       "  </tbody>\n",
       "</table>\n",
       "<p>5 rows × 26 columns</p>\n",
       "</div>"
      ],
      "text/plain": [
       "   2         3         4         5         6         7           8   \\\n",
       "0   0  0.022050  1.000000  1.000000  0.093809  0.093809  230.434275   \n",
       "1   1  1.473643  2.989011  1.265116  3.107680  2.456438    0.923548   \n",
       "2   0  1.640238  2.601010  1.240964  3.518053  2.834936    0.997146   \n",
       "3   0  1.220881  3.339286  0.956522  2.247371  2.349524    1.096531   \n",
       "4   0  1.244603  2.415385  1.085253  2.543429  2.343626    0.936581   \n",
       "\n",
       "           9    10         11  ...         18   19   20         21         22  \\\n",
       "0  693.529541  0.0  25.942919  ...  25.593006  0.0  0.0  26.567938  26.040943   \n",
       "1    2.132929  0.0  22.958532  ...  22.542686  0.0  0.0  23.418932  23.019554   \n",
       "2    1.763106  0.0  30.680021  ...  30.855593  0.0  0.0  31.899736  30.952457   \n",
       "3    2.863812  0.0  27.559206  ...  27.580500  0.0  0.0  28.576347  27.754471   \n",
       "4    2.559449  0.0  31.328630  ...  31.637636  0.0  0.0  32.720364  31.575808   \n",
       "\n",
       "    23         24  25      26         27  \n",
       "0  0.0   9.629834  20  1.7272   85.72896  \n",
       "1  0.0   8.590477  20  1.8034  105.23344  \n",
       "2  0.0  11.148106  21  1.6764   99.79033  \n",
       "3  0.0  10.059669  23  1.5240   76.65712  \n",
       "4  0.0  11.267887  22  1.6510  106.59421  \n",
       "\n",
       "[5 rows x 26 columns]"
      ]
     },
     "execution_count": 29,
     "metadata": {},
     "output_type": "execute_result"
    }
   ],
   "source": [
    "# Display a sample of X and y\n",
    "print(\"X:\")\n",
    "X.head()\n",
    "\n"
   ]
  },
  {
   "cell_type": "code",
   "execution_count": 46,
   "id": "8b5b0ccf-2c59-4509-87d4-68818929afe5",
   "metadata": {
    "tags": []
   },
   "outputs": [],
   "source": [
    "def mean_absolute_percentage_error(y_true, y_pred):\n",
    "    y_true, y_pred = np.array(y_true), np.array(y_pred)\n",
    "    return np.mean(np.abs((y_true - y_pred) / y_true)) * 100"
   ]
  },
  {
   "cell_type": "code",
   "execution_count": 38,
   "id": "4fb7c80d-3d26-49d1-8c1c-de361383f186",
   "metadata": {
    "tags": []
   },
   "outputs": [],
   "source": [
    "test_df = pd.read_csv('Image_test.csv',header=None)\n",
    "X_test, y_test = test_df.iloc[:,2:], test_df.iloc[:,1]"
   ]
  },
  {
   "cell_type": "code",
   "execution_count": 39,
   "id": "16993ffb-1f81-4535-be97-73b30d5bec47",
   "metadata": {
    "tags": []
   },
   "outputs": [
    {
     "name": "stdout",
     "output_type": "stream",
     "text": [
      "Train size: 2535\n",
      "Test size: 602\n"
     ]
    }
   ],
   "source": [
    "print(\"Train size:\", len(X_train))\n",
    "print(\"Test size:\", len(X_test))"
   ]
  },
  {
   "cell_type": "code",
   "execution_count": 44,
   "id": "8389c473-8645-4998-afb6-76436a9e30ea",
   "metadata": {},
   "outputs": [],
   "source": [
    "KN = Exponentiation(RationalQuadratic(), exponent=2)\n",
    "gpr = sklearn.gaussian_process.GaussianProcessRegressor(kernel=KN, alpha=1e-3)"
   ]
  },
  {
   "cell_type": "code",
   "execution_count": 48,
   "id": "27d31656-04af-408a-b102-5cd391fced56",
   "metadata": {
    "tags": []
   },
   "outputs": [
    {
     "data": {
      "text/html": [
       "<style>#sk-container-id-1 {color: black;}#sk-container-id-1 pre{padding: 0;}#sk-container-id-1 div.sk-toggleable {background-color: white;}#sk-container-id-1 label.sk-toggleable__label {cursor: pointer;display: block;width: 100%;margin-bottom: 0;padding: 0.3em;box-sizing: border-box;text-align: center;}#sk-container-id-1 label.sk-toggleable__label-arrow:before {content: \"▸\";float: left;margin-right: 0.25em;color: #696969;}#sk-container-id-1 label.sk-toggleable__label-arrow:hover:before {color: black;}#sk-container-id-1 div.sk-estimator:hover label.sk-toggleable__label-arrow:before {color: black;}#sk-container-id-1 div.sk-toggleable__content {max-height: 0;max-width: 0;overflow: hidden;text-align: left;background-color: #f0f8ff;}#sk-container-id-1 div.sk-toggleable__content pre {margin: 0.2em;color: black;border-radius: 0.25em;background-color: #f0f8ff;}#sk-container-id-1 input.sk-toggleable__control:checked~div.sk-toggleable__content {max-height: 200px;max-width: 100%;overflow: auto;}#sk-container-id-1 input.sk-toggleable__control:checked~label.sk-toggleable__label-arrow:before {content: \"▾\";}#sk-container-id-1 div.sk-estimator input.sk-toggleable__control:checked~label.sk-toggleable__label {background-color: #d4ebff;}#sk-container-id-1 div.sk-label input.sk-toggleable__control:checked~label.sk-toggleable__label {background-color: #d4ebff;}#sk-container-id-1 input.sk-hidden--visually {border: 0;clip: rect(1px 1px 1px 1px);clip: rect(1px, 1px, 1px, 1px);height: 1px;margin: -1px;overflow: hidden;padding: 0;position: absolute;width: 1px;}#sk-container-id-1 div.sk-estimator {font-family: monospace;background-color: #f0f8ff;border: 1px dotted black;border-radius: 0.25em;box-sizing: border-box;margin-bottom: 0.5em;}#sk-container-id-1 div.sk-estimator:hover {background-color: #d4ebff;}#sk-container-id-1 div.sk-parallel-item::after {content: \"\";width: 100%;border-bottom: 1px solid gray;flex-grow: 1;}#sk-container-id-1 div.sk-label:hover label.sk-toggleable__label {background-color: #d4ebff;}#sk-container-id-1 div.sk-serial::before {content: \"\";position: absolute;border-left: 1px solid gray;box-sizing: border-box;top: 0;bottom: 0;left: 50%;z-index: 0;}#sk-container-id-1 div.sk-serial {display: flex;flex-direction: column;align-items: center;background-color: white;padding-right: 0.2em;padding-left: 0.2em;position: relative;}#sk-container-id-1 div.sk-item {position: relative;z-index: 1;}#sk-container-id-1 div.sk-parallel {display: flex;align-items: stretch;justify-content: center;background-color: white;position: relative;}#sk-container-id-1 div.sk-item::before, #sk-container-id-1 div.sk-parallel-item::before {content: \"\";position: absolute;border-left: 1px solid gray;box-sizing: border-box;top: 0;bottom: 0;left: 50%;z-index: -1;}#sk-container-id-1 div.sk-parallel-item {display: flex;flex-direction: column;z-index: 1;position: relative;background-color: white;}#sk-container-id-1 div.sk-parallel-item:first-child::after {align-self: flex-end;width: 50%;}#sk-container-id-1 div.sk-parallel-item:last-child::after {align-self: flex-start;width: 50%;}#sk-container-id-1 div.sk-parallel-item:only-child::after {width: 0;}#sk-container-id-1 div.sk-dashed-wrapped {border: 1px dashed gray;margin: 0 0.4em 0.5em 0.4em;box-sizing: border-box;padding-bottom: 0.4em;background-color: white;}#sk-container-id-1 div.sk-label label {font-family: monospace;font-weight: bold;display: inline-block;line-height: 1.2em;}#sk-container-id-1 div.sk-label-container {text-align: center;}#sk-container-id-1 div.sk-container {/* jupyter's `normalize.less` sets `[hidden] { display: none; }` but bootstrap.min.css set `[hidden] { display: none !important; }` so we also need the `!important` here to be able to override the default hidden behavior on the sphinx rendered scikit-learn.org. See: https://github.com/scikit-learn/scikit-learn/issues/21755 */display: inline-block !important;position: relative;}#sk-container-id-1 div.sk-text-repr-fallback {display: none;}</style><div id=\"sk-container-id-1\" class=\"sk-top-container\"><div class=\"sk-text-repr-fallback\"><pre>GaussianProcessRegressor(alpha=0.001,\n",
       "                         kernel=RationalQuadratic(alpha=1, length_scale=1) ** 2)</pre><b>In a Jupyter environment, please rerun this cell to show the HTML representation or trust the notebook. <br />On GitHub, the HTML representation is unable to render, please try loading this page with nbviewer.org.</b></div><div class=\"sk-container\" hidden><div class=\"sk-item\"><div class=\"sk-estimator sk-toggleable\"><input class=\"sk-toggleable__control sk-hidden--visually\" id=\"sk-estimator-id-1\" type=\"checkbox\" checked><label for=\"sk-estimator-id-1\" class=\"sk-toggleable__label sk-toggleable__label-arrow\">GaussianProcessRegressor</label><div class=\"sk-toggleable__content\"><pre>GaussianProcessRegressor(alpha=0.001,\n",
       "                         kernel=RationalQuadratic(alpha=1, length_scale=1) ** 2)</pre></div></div></div></div></div>"
      ],
      "text/plain": [
       "GaussianProcessRegressor(alpha=0.001,\n",
       "                         kernel=RationalQuadratic(alpha=1, length_scale=1) ** 2)"
      ]
     },
     "execution_count": 48,
     "metadata": {},
     "output_type": "execute_result"
    }
   ],
   "source": [
    "gpr.fit(X_train, y_train)"
   ]
  },
  {
   "cell_type": "code",
   "execution_count": 50,
   "id": "19b0d9b3-0249-494f-9ec6-0c0c22bf2520",
   "metadata": {
    "tags": []
   },
   "outputs": [],
   "source": [
    "y_pred = gpr.predict(X_test)"
   ]
  },
  {
   "cell_type": "code",
   "execution_count": 55,
   "id": "9fa825d0-2880-44d9-8db3-931d890cb12e",
   "metadata": {
    "tags": []
   },
   "outputs": [
    {
     "name": "stdout",
     "output_type": "stream",
     "text": [
      "MAE:  2.8310997065039416 MAPE:  9.67985407059982 R2:  0.7588099796396377 RMSE:  4.299714536118862\n"
     ]
    }
   ],
   "source": [
    "print('MAE: ', mean_absolute_error(y_test, y_pred),\n",
    "              'MAPE: ', mean_absolute_percentage_error(y_test, y_pred),\n",
    "              'R2: ', r2_score(y_test, y_pred),\n",
    "              'RMSE: ', RMSE(mean_squared_error(y_test, y_pred)),\n",
    "              )"
   ]
  },
  {
   "cell_type": "code",
   "execution_count": 58,
   "id": "b04eefb9-448a-460b-9e79-8233916b171b",
   "metadata": {
    "tags": []
   },
   "outputs": [
    {
     "name": "stdout",
     "output_type": "stream",
     "text": [
      "MAE:  3.5885598187292596 MAPE:  11.881920176424716 R2:  0.672414721795271 RMSE:  5.010973939716754\n"
     ]
    }
   ],
   "source": [
    "svr = SVR(kernel='rbf')\n",
    "\n",
    "svr.fit(X_train, y_train)\n",
    "y_pred = svr.predict(X_test)\n",
    "\n",
    "print('MAE: ', mean_absolute_error(y_test, y_pred),\n",
    "              'MAPE: ', mean_absolute_percentage_error(y_test, y_pred),\n",
    "              'R2: ', r2_score(y_test, y_pred),\n",
    "              'RMSE: ', RMSE(mean_squared_error(y_test, y_pred)),\n",
    "              )"
   ]
  },
  {
   "cell_type": "code",
   "execution_count": null,
   "id": "085ef34d-d8fd-424c-89e4-b999335aff78",
   "metadata": {},
   "outputs": [],
   "source": []
  }
 ],
 "metadata": {
  "kernelspec": {
   "display_name": "sagemaker-distribution:Python",
   "language": "python",
   "name": "conda-env-sagemaker-distribution-py"
  },
  "language_info": {
   "codemirror_mode": {
    "name": "ipython",
    "version": 3
   },
   "file_extension": ".py",
   "mimetype": "text/x-python",
   "name": "python",
   "nbconvert_exporter": "python",
   "pygments_lexer": "ipython3",
   "version": "3.8.17"
  }
 },
 "nbformat": 4,
 "nbformat_minor": 5
}
